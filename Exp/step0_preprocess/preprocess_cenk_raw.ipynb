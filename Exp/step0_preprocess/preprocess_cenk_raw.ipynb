{
 "cells": [
  {
   "cell_type": "markdown",
   "metadata": {},
   "source": [
    "## Basic settings for your environment"
   ]
  },
  {
   "cell_type": "code",
   "execution_count": 1,
   "metadata": {},
   "outputs": [
    {
     "name": "stdout",
     "output_type": "stream",
     "text": [
      "🤖 Notebook location is: /home/pan/Experiments/EXPs/scLLM_workspace/G0-LM/Exp/step0_preprocess\n",
      "🤖 Project location is: /home/pan/Experiments/EXPs/scLLM_workspace/G0-LM/\n",
      "🤖 Data folder location is: /home/pan/Experiments/EXPs/scLLM_workspace/G0-LM//Data/\n",
      "🤖 Output folder location is: /home/pan/Experiments/EXPs/scLLM_workspace/G0-LM//Output/\n"
     ]
    },
    {
     "name": "stderr",
     "output_type": "stream",
     "text": [
      "/home/pan/anaconda3/envs/scLLM/lib/python3.9/site-packages/tqdm/auto.py:21: TqdmWarning: IProgress not found. Please update jupyter and ipywidgets. See https://ipywidgets.readthedocs.io/en/stable/user_install.html\n",
      "  from .autonotebook import tqdm as notebook_tqdm\n"
     ]
    }
   ],
   "source": [
    "import os\n",
    "\n",
    "notebook_path = os.getcwd()\n",
    "notebook_path = os.path.abspath(notebook_path)\n",
    "print(f\"🤖 Notebook location is: {notebook_path}\")\n",
    "\n",
    "root_path = os.path.dirname(os.path.dirname(os.path.dirname(notebook_path)))\n",
    "project_path = root_path + \"/G0-LM/\"\n",
    "data_folder = project_path + \"/Data/\"\n",
    "output_folder = project_path + \"/Output/\"\n",
    "print(f\"🤖 Project location is: {project_path}\")\n",
    "print(f\"🤖 Data folder location is: {data_folder}\")\n",
    "print(f\"🤖 Output folder location is: {output_folder}\")\n",
    "\n",
    "import sys\n",
    "sys.path.append(project_path +\"/src/\" )\n",
    "from scLLM.Dataset.Reader import scReader"
   ]
  },
  {
   "cell_type": "markdown",
   "metadata": {},
   "source": [
    "## Read and show adata"
   ]
  },
  {
   "cell_type": "code",
   "execution_count": 2,
   "metadata": {},
   "outputs": [],
   "source": [
    "raw_data_folder = data_folder + \"/raw/\"\n",
    "dataset_name = \"G0_arrest\"\n",
    "data_path = raw_data_folder + \"/celik_malignant.h5ad\" # download from our link \n",
    "preprocessed_folder = f\"{data_folder}/processed/{dataset_name}\" "
   ]
  },
  {
   "cell_type": "code",
   "execution_count": 3,
   "metadata": {},
   "outputs": [
    {
     "name": "stdout",
     "output_type": "stream",
     "text": [
      "AnnData object with n_obs × n_vars = 91897 × 33541\n",
      "    obs: 'orig.ident', 'nCount_RNA', 'nFeature_RNA', 'type', 'patient', 'annotation', 'percent.mt', 'Phase', 'CC.Difference', 'nCount_SCT', 'nFeature_SCT', 'seurat_clusters', 'integrated_snn_res.2', 'celltype', 'malignancy', 'cellclass', 'QuiescenceScore', 'QuiescenceStatus', 'QuiescenceType', 'disease', 'SCT_snn_res.0.6', 'UMAP_1', 'UMAP_2', 'ident'\n",
      "    uns: 'X_name'\n",
      "    layers: 'logcounts'\n"
     ]
    }
   ],
   "source": [
    "# check the data\n",
    "import scanpy as sc\n",
    "import pandas as pd\n",
    "import numpy as np\n",
    "\n",
    "adata = sc.read(data_path)\n",
    "print(adata)"
   ]
  },
  {
   "cell_type": "code",
   "execution_count": 4,
   "metadata": {},
   "outputs": [
    {
     "data": {
      "text/html": [
       "<div>\n",
       "<style scoped>\n",
       "    .dataframe tbody tr th:only-of-type {\n",
       "        vertical-align: middle;\n",
       "    }\n",
       "\n",
       "    .dataframe tbody tr th {\n",
       "        vertical-align: top;\n",
       "    }\n",
       "\n",
       "    .dataframe thead th {\n",
       "        text-align: right;\n",
       "    }\n",
       "</style>\n",
       "<table border=\"1\" class=\"dataframe\">\n",
       "  <thead>\n",
       "    <tr style=\"text-align: right;\">\n",
       "      <th></th>\n",
       "      <th>orig.ident</th>\n",
       "      <th>nCount_RNA</th>\n",
       "      <th>nFeature_RNA</th>\n",
       "      <th>type</th>\n",
       "      <th>patient</th>\n",
       "      <th>annotation</th>\n",
       "      <th>percent.mt</th>\n",
       "      <th>Phase</th>\n",
       "      <th>CC.Difference</th>\n",
       "      <th>nCount_SCT</th>\n",
       "      <th>...</th>\n",
       "      <th>malignancy</th>\n",
       "      <th>cellclass</th>\n",
       "      <th>QuiescenceScore</th>\n",
       "      <th>QuiescenceStatus</th>\n",
       "      <th>QuiescenceType</th>\n",
       "      <th>disease</th>\n",
       "      <th>SCT_snn_res.0.6</th>\n",
       "      <th>UMAP_1</th>\n",
       "      <th>UMAP_2</th>\n",
       "      <th>ident</th>\n",
       "    </tr>\n",
       "  </thead>\n",
       "  <tbody>\n",
       "    <tr>\n",
       "      <th>Gao2021_AAACCTGCAGTGACAG</th>\n",
       "      <td>Gao2021</td>\n",
       "      <td>8264.0</td>\n",
       "      <td>2739</td>\n",
       "      <td>DCIS</td>\n",
       "      <td>Patient.1</td>\n",
       "      <td>Malignant</td>\n",
       "      <td>4.440949</td>\n",
       "      <td>G1</td>\n",
       "      <td>0.109523</td>\n",
       "      <td>17029.0</td>\n",
       "      <td>...</td>\n",
       "      <td>malignant</td>\n",
       "      <td>EPI</td>\n",
       "      <td>0.424070</td>\n",
       "      <td>Slow-cycling</td>\n",
       "      <td>NaN</td>\n",
       "      <td>cancer</td>\n",
       "      <td>8</td>\n",
       "      <td>2.308599</td>\n",
       "      <td>9.000979</td>\n",
       "      <td>8</td>\n",
       "    </tr>\n",
       "    <tr>\n",
       "      <th>Gao2021_AAACCTGGTCGAGATG</th>\n",
       "      <td>Gao2021</td>\n",
       "      <td>8114.0</td>\n",
       "      <td>3079</td>\n",
       "      <td>DCIS</td>\n",
       "      <td>Patient.1</td>\n",
       "      <td>Epithelial</td>\n",
       "      <td>2.896229</td>\n",
       "      <td>G1</td>\n",
       "      <td>0.057076</td>\n",
       "      <td>16646.0</td>\n",
       "      <td>...</td>\n",
       "      <td>malignant</td>\n",
       "      <td>EPI</td>\n",
       "      <td>0.117080</td>\n",
       "      <td>Slow-cycling</td>\n",
       "      <td>NaN</td>\n",
       "      <td>cancer</td>\n",
       "      <td>29</td>\n",
       "      <td>3.332328</td>\n",
       "      <td>0.750924</td>\n",
       "      <td>29</td>\n",
       "    </tr>\n",
       "    <tr>\n",
       "      <th>Gao2021_AAACGGGGTGCACTTA</th>\n",
       "      <td>Gao2021</td>\n",
       "      <td>11894.0</td>\n",
       "      <td>3373</td>\n",
       "      <td>DCIS</td>\n",
       "      <td>Patient.1</td>\n",
       "      <td>Malignant</td>\n",
       "      <td>3.573230</td>\n",
       "      <td>S</td>\n",
       "      <td>0.545934</td>\n",
       "      <td>16933.0</td>\n",
       "      <td>...</td>\n",
       "      <td>malignant</td>\n",
       "      <td>EPI</td>\n",
       "      <td>-1.149291</td>\n",
       "      <td>Slow-cycling</td>\n",
       "      <td>NaN</td>\n",
       "      <td>cancer</td>\n",
       "      <td>8</td>\n",
       "      <td>2.850399</td>\n",
       "      <td>9.627029</td>\n",
       "      <td>8</td>\n",
       "    </tr>\n",
       "    <tr>\n",
       "      <th>Gao2021_AAACGGGTCACGGTTA</th>\n",
       "      <td>Gao2021</td>\n",
       "      <td>20491.0</td>\n",
       "      <td>4161</td>\n",
       "      <td>DCIS</td>\n",
       "      <td>Patient.1</td>\n",
       "      <td>Malignant</td>\n",
       "      <td>4.611781</td>\n",
       "      <td>G1</td>\n",
       "      <td>-0.306200</td>\n",
       "      <td>18522.0</td>\n",
       "      <td>...</td>\n",
       "      <td>malignant</td>\n",
       "      <td>EPI</td>\n",
       "      <td>-4.777074</td>\n",
       "      <td>Proliferating</td>\n",
       "      <td>NaN</td>\n",
       "      <td>cancer</td>\n",
       "      <td>8</td>\n",
       "      <td>1.319856</td>\n",
       "      <td>8.243177</td>\n",
       "      <td>8</td>\n",
       "    </tr>\n",
       "    <tr>\n",
       "      <th>Gao2021_AAAGATGAGCAGACTG</th>\n",
       "      <td>Gao2021</td>\n",
       "      <td>6084.0</td>\n",
       "      <td>2073</td>\n",
       "      <td>DCIS</td>\n",
       "      <td>Patient.1</td>\n",
       "      <td>Malignant</td>\n",
       "      <td>0.427350</td>\n",
       "      <td>S</td>\n",
       "      <td>0.986743</td>\n",
       "      <td>16344.0</td>\n",
       "      <td>...</td>\n",
       "      <td>malignant</td>\n",
       "      <td>EPI</td>\n",
       "      <td>-5.706763</td>\n",
       "      <td>Proliferating</td>\n",
       "      <td>NaN</td>\n",
       "      <td>cancer</td>\n",
       "      <td>8</td>\n",
       "      <td>1.266328</td>\n",
       "      <td>8.319838</td>\n",
       "      <td>8</td>\n",
       "    </tr>\n",
       "    <tr>\n",
       "      <th>...</th>\n",
       "      <td>...</td>\n",
       "      <td>...</td>\n",
       "      <td>...</td>\n",
       "      <td>...</td>\n",
       "      <td>...</td>\n",
       "      <td>...</td>\n",
       "      <td>...</td>\n",
       "      <td>...</td>\n",
       "      <td>...</td>\n",
       "      <td>...</td>\n",
       "      <td>...</td>\n",
       "      <td>...</td>\n",
       "      <td>...</td>\n",
       "      <td>...</td>\n",
       "      <td>...</td>\n",
       "      <td>...</td>\n",
       "      <td>...</td>\n",
       "      <td>...</td>\n",
       "      <td>...</td>\n",
       "      <td>...</td>\n",
       "      <td>...</td>\n",
       "    </tr>\n",
       "    <tr>\n",
       "      <th>Qian2020_sc5rJUQ064_TTTGGTTTCTCTTATG</th>\n",
       "      <td>Qian2020</td>\n",
       "      <td>7957.0</td>\n",
       "      <td>2876</td>\n",
       "      <td>neoplasm</td>\n",
       "      <td>Patient.11</td>\n",
       "      <td>Malignant</td>\n",
       "      <td>0.000000</td>\n",
       "      <td>G1</td>\n",
       "      <td>0.088007</td>\n",
       "      <td>7679.0</td>\n",
       "      <td>...</td>\n",
       "      <td>malignant</td>\n",
       "      <td>EPI</td>\n",
       "      <td>0.609828</td>\n",
       "      <td>Slow-cycling</td>\n",
       "      <td>NaN</td>\n",
       "      <td>cancer</td>\n",
       "      <td>39</td>\n",
       "      <td>5.134756</td>\n",
       "      <td>-5.303202</td>\n",
       "      <td>39</td>\n",
       "    </tr>\n",
       "    <tr>\n",
       "      <th>Qian2020_sc5rJUQ064_TTTGGTTTCTGCCCTA</th>\n",
       "      <td>Qian2020</td>\n",
       "      <td>5952.0</td>\n",
       "      <td>2323</td>\n",
       "      <td>neoplasm</td>\n",
       "      <td>Patient.11</td>\n",
       "      <td>Malignant</td>\n",
       "      <td>0.000000</td>\n",
       "      <td>S</td>\n",
       "      <td>0.222599</td>\n",
       "      <td>6798.0</td>\n",
       "      <td>...</td>\n",
       "      <td>malignant</td>\n",
       "      <td>EPI</td>\n",
       "      <td>1.775202</td>\n",
       "      <td>Slow-cycling</td>\n",
       "      <td>NaN</td>\n",
       "      <td>cancer</td>\n",
       "      <td>7</td>\n",
       "      <td>7.482186</td>\n",
       "      <td>-1.265292</td>\n",
       "      <td>7</td>\n",
       "    </tr>\n",
       "    <tr>\n",
       "      <th>Qian2020_sc5rJUQ064_TTTGTCAAGCCAGAAC</th>\n",
       "      <td>Qian2020</td>\n",
       "      <td>10668.0</td>\n",
       "      <td>2963</td>\n",
       "      <td>neoplasm</td>\n",
       "      <td>Patient.11</td>\n",
       "      <td>Malignant</td>\n",
       "      <td>0.000000</td>\n",
       "      <td>S</td>\n",
       "      <td>0.382679</td>\n",
       "      <td>7994.0</td>\n",
       "      <td>...</td>\n",
       "      <td>malignant</td>\n",
       "      <td>EPI</td>\n",
       "      <td>1.262667</td>\n",
       "      <td>Slow-cycling</td>\n",
       "      <td>NaN</td>\n",
       "      <td>cancer</td>\n",
       "      <td>7</td>\n",
       "      <td>7.210531</td>\n",
       "      <td>-1.803136</td>\n",
       "      <td>7</td>\n",
       "    </tr>\n",
       "    <tr>\n",
       "      <th>Qian2020_sc5rJUQ064_TTTGTCAAGGACGAAA</th>\n",
       "      <td>Qian2020</td>\n",
       "      <td>4253.0</td>\n",
       "      <td>1814</td>\n",
       "      <td>neoplasm</td>\n",
       "      <td>Patient.11</td>\n",
       "      <td>Malignant</td>\n",
       "      <td>0.000000</td>\n",
       "      <td>S</td>\n",
       "      <td>0.104481</td>\n",
       "      <td>6669.0</td>\n",
       "      <td>...</td>\n",
       "      <td>malignant</td>\n",
       "      <td>EPI</td>\n",
       "      <td>2.468814</td>\n",
       "      <td>Slow-cycling</td>\n",
       "      <td>NaN</td>\n",
       "      <td>cancer</td>\n",
       "      <td>2</td>\n",
       "      <td>7.773876</td>\n",
       "      <td>-1.702071</td>\n",
       "      <td>2</td>\n",
       "    </tr>\n",
       "    <tr>\n",
       "      <th>Qian2020_sc5rJUQ064_TTTGTCAGTCTTGTCC</th>\n",
       "      <td>Qian2020</td>\n",
       "      <td>8921.0</td>\n",
       "      <td>2464</td>\n",
       "      <td>neoplasm</td>\n",
       "      <td>Patient.11</td>\n",
       "      <td>Malignant</td>\n",
       "      <td>0.000000</td>\n",
       "      <td>G1</td>\n",
       "      <td>0.089861</td>\n",
       "      <td>7827.0</td>\n",
       "      <td>...</td>\n",
       "      <td>malignant</td>\n",
       "      <td>EPI</td>\n",
       "      <td>2.799317</td>\n",
       "      <td>Slow-cycling</td>\n",
       "      <td>NaN</td>\n",
       "      <td>cancer</td>\n",
       "      <td>12</td>\n",
       "      <td>3.575627</td>\n",
       "      <td>-4.246270</td>\n",
       "      <td>12</td>\n",
       "    </tr>\n",
       "  </tbody>\n",
       "</table>\n",
       "<p>91897 rows × 24 columns</p>\n",
       "</div>"
      ],
      "text/plain": [
       "                                     orig.ident  nCount_RNA  nFeature_RNA  \\\n",
       "Gao2021_AAACCTGCAGTGACAG                Gao2021      8264.0          2739   \n",
       "Gao2021_AAACCTGGTCGAGATG                Gao2021      8114.0          3079   \n",
       "Gao2021_AAACGGGGTGCACTTA                Gao2021     11894.0          3373   \n",
       "Gao2021_AAACGGGTCACGGTTA                Gao2021     20491.0          4161   \n",
       "Gao2021_AAAGATGAGCAGACTG                Gao2021      6084.0          2073   \n",
       "...                                         ...         ...           ...   \n",
       "Qian2020_sc5rJUQ064_TTTGGTTTCTCTTATG   Qian2020      7957.0          2876   \n",
       "Qian2020_sc5rJUQ064_TTTGGTTTCTGCCCTA   Qian2020      5952.0          2323   \n",
       "Qian2020_sc5rJUQ064_TTTGTCAAGCCAGAAC   Qian2020     10668.0          2963   \n",
       "Qian2020_sc5rJUQ064_TTTGTCAAGGACGAAA   Qian2020      4253.0          1814   \n",
       "Qian2020_sc5rJUQ064_TTTGTCAGTCTTGTCC   Qian2020      8921.0          2464   \n",
       "\n",
       "                                          type     patient  annotation  \\\n",
       "Gao2021_AAACCTGCAGTGACAG                  DCIS   Patient.1   Malignant   \n",
       "Gao2021_AAACCTGGTCGAGATG                  DCIS   Patient.1  Epithelial   \n",
       "Gao2021_AAACGGGGTGCACTTA                  DCIS   Patient.1   Malignant   \n",
       "Gao2021_AAACGGGTCACGGTTA                  DCIS   Patient.1   Malignant   \n",
       "Gao2021_AAAGATGAGCAGACTG                  DCIS   Patient.1   Malignant   \n",
       "...                                        ...         ...         ...   \n",
       "Qian2020_sc5rJUQ064_TTTGGTTTCTCTTATG  neoplasm  Patient.11   Malignant   \n",
       "Qian2020_sc5rJUQ064_TTTGGTTTCTGCCCTA  neoplasm  Patient.11   Malignant   \n",
       "Qian2020_sc5rJUQ064_TTTGTCAAGCCAGAAC  neoplasm  Patient.11   Malignant   \n",
       "Qian2020_sc5rJUQ064_TTTGTCAAGGACGAAA  neoplasm  Patient.11   Malignant   \n",
       "Qian2020_sc5rJUQ064_TTTGTCAGTCTTGTCC  neoplasm  Patient.11   Malignant   \n",
       "\n",
       "                                      percent.mt Phase  CC.Difference  \\\n",
       "Gao2021_AAACCTGCAGTGACAG                4.440949    G1       0.109523   \n",
       "Gao2021_AAACCTGGTCGAGATG                2.896229    G1       0.057076   \n",
       "Gao2021_AAACGGGGTGCACTTA                3.573230     S       0.545934   \n",
       "Gao2021_AAACGGGTCACGGTTA                4.611781    G1      -0.306200   \n",
       "Gao2021_AAAGATGAGCAGACTG                0.427350     S       0.986743   \n",
       "...                                          ...   ...            ...   \n",
       "Qian2020_sc5rJUQ064_TTTGGTTTCTCTTATG    0.000000    G1       0.088007   \n",
       "Qian2020_sc5rJUQ064_TTTGGTTTCTGCCCTA    0.000000     S       0.222599   \n",
       "Qian2020_sc5rJUQ064_TTTGTCAAGCCAGAAC    0.000000     S       0.382679   \n",
       "Qian2020_sc5rJUQ064_TTTGTCAAGGACGAAA    0.000000     S       0.104481   \n",
       "Qian2020_sc5rJUQ064_TTTGTCAGTCTTGTCC    0.000000    G1       0.089861   \n",
       "\n",
       "                                      nCount_SCT  ...  malignancy cellclass  \\\n",
       "Gao2021_AAACCTGCAGTGACAG                 17029.0  ...   malignant       EPI   \n",
       "Gao2021_AAACCTGGTCGAGATG                 16646.0  ...   malignant       EPI   \n",
       "Gao2021_AAACGGGGTGCACTTA                 16933.0  ...   malignant       EPI   \n",
       "Gao2021_AAACGGGTCACGGTTA                 18522.0  ...   malignant       EPI   \n",
       "Gao2021_AAAGATGAGCAGACTG                 16344.0  ...   malignant       EPI   \n",
       "...                                          ...  ...         ...       ...   \n",
       "Qian2020_sc5rJUQ064_TTTGGTTTCTCTTATG      7679.0  ...   malignant       EPI   \n",
       "Qian2020_sc5rJUQ064_TTTGGTTTCTGCCCTA      6798.0  ...   malignant       EPI   \n",
       "Qian2020_sc5rJUQ064_TTTGTCAAGCCAGAAC      7994.0  ...   malignant       EPI   \n",
       "Qian2020_sc5rJUQ064_TTTGTCAAGGACGAAA      6669.0  ...   malignant       EPI   \n",
       "Qian2020_sc5rJUQ064_TTTGTCAGTCTTGTCC      7827.0  ...   malignant       EPI   \n",
       "\n",
       "                                     QuiescenceScore QuiescenceStatus  \\\n",
       "Gao2021_AAACCTGCAGTGACAG                    0.424070     Slow-cycling   \n",
       "Gao2021_AAACCTGGTCGAGATG                    0.117080     Slow-cycling   \n",
       "Gao2021_AAACGGGGTGCACTTA                   -1.149291     Slow-cycling   \n",
       "Gao2021_AAACGGGTCACGGTTA                   -4.777074    Proliferating   \n",
       "Gao2021_AAAGATGAGCAGACTG                   -5.706763    Proliferating   \n",
       "...                                              ...              ...   \n",
       "Qian2020_sc5rJUQ064_TTTGGTTTCTCTTATG        0.609828     Slow-cycling   \n",
       "Qian2020_sc5rJUQ064_TTTGGTTTCTGCCCTA        1.775202     Slow-cycling   \n",
       "Qian2020_sc5rJUQ064_TTTGTCAAGCCAGAAC        1.262667     Slow-cycling   \n",
       "Qian2020_sc5rJUQ064_TTTGTCAAGGACGAAA        2.468814     Slow-cycling   \n",
       "Qian2020_sc5rJUQ064_TTTGTCAGTCTTGTCC        2.799317     Slow-cycling   \n",
       "\n",
       "                                     QuiescenceType disease  SCT_snn_res.0.6  \\\n",
       "Gao2021_AAACCTGCAGTGACAG                        NaN  cancer                8   \n",
       "Gao2021_AAACCTGGTCGAGATG                        NaN  cancer               29   \n",
       "Gao2021_AAACGGGGTGCACTTA                        NaN  cancer                8   \n",
       "Gao2021_AAACGGGTCACGGTTA                        NaN  cancer                8   \n",
       "Gao2021_AAAGATGAGCAGACTG                        NaN  cancer                8   \n",
       "...                                             ...     ...              ...   \n",
       "Qian2020_sc5rJUQ064_TTTGGTTTCTCTTATG            NaN  cancer               39   \n",
       "Qian2020_sc5rJUQ064_TTTGGTTTCTGCCCTA            NaN  cancer                7   \n",
       "Qian2020_sc5rJUQ064_TTTGTCAAGCCAGAAC            NaN  cancer                7   \n",
       "Qian2020_sc5rJUQ064_TTTGTCAAGGACGAAA            NaN  cancer                2   \n",
       "Qian2020_sc5rJUQ064_TTTGTCAGTCTTGTCC            NaN  cancer               12   \n",
       "\n",
       "                                        UMAP_1    UMAP_2 ident  \n",
       "Gao2021_AAACCTGCAGTGACAG              2.308599  9.000979     8  \n",
       "Gao2021_AAACCTGGTCGAGATG              3.332328  0.750924    29  \n",
       "Gao2021_AAACGGGGTGCACTTA              2.850399  9.627029     8  \n",
       "Gao2021_AAACGGGTCACGGTTA              1.319856  8.243177     8  \n",
       "Gao2021_AAAGATGAGCAGACTG              1.266328  8.319838     8  \n",
       "...                                        ...       ...   ...  \n",
       "Qian2020_sc5rJUQ064_TTTGGTTTCTCTTATG  5.134756 -5.303202    39  \n",
       "Qian2020_sc5rJUQ064_TTTGGTTTCTGCCCTA  7.482186 -1.265292     7  \n",
       "Qian2020_sc5rJUQ064_TTTGTCAAGCCAGAAC  7.210531 -1.803136     7  \n",
       "Qian2020_sc5rJUQ064_TTTGTCAAGGACGAAA  7.773876 -1.702071     2  \n",
       "Qian2020_sc5rJUQ064_TTTGTCAGTCTTGTCC  3.575627 -4.246270    12  \n",
       "\n",
       "[91897 rows x 24 columns]"
      ]
     },
     "execution_count": 4,
     "metadata": {},
     "output_type": "execute_result"
    }
   ],
   "source": [
    "adata.obs"
   ]
  },
  {
   "cell_type": "code",
   "execution_count": 5,
   "metadata": {},
   "outputs": [
    {
     "name": "stdout",
     "output_type": "stream",
     "text": [
      "QuiescenceStatus\n",
      "Slow-cycling     68601\n",
      "Quiescent         8575\n",
      "Proliferating     8573\n",
      "                  6148\n",
      "Name: count, dtype: int64\n",
      "celltype\n",
      "Slow-cycling                           68601\n",
      "G0 arrested                             8575\n",
      "Fast-cycling                            8573\n",
      "SAA2+ mammary luminal progenitor        2338\n",
      "PIP+ mammary luminal cell               1545\n",
      "Secretoglobin mammary luminal cell      1519\n",
      "Mammary basal cell                       690\n",
      "Cycling lactocyte                         54\n",
      "SCGB3A1+ mammary luminal progenitor        2\n",
      "Name: count, dtype: int64\n"
     ]
    }
   ],
   "source": [
    "print(adata.obs[\"QuiescenceStatus\"].value_counts())\n",
    "print(adata.obs[\"celltype\"].value_counts())"
   ]
  },
  {
   "cell_type": "markdown",
   "metadata": {},
   "source": [
    "## preprocess "
   ]
  },
  {
   "cell_type": "code",
   "execution_count": 6,
   "metadata": {},
   "outputs": [],
   "source": [
    "# backbone model required some pre-defined parameters\n",
    "#----> pre-trained part \n",
    "vocab_loc = project_path +\"/src/scLLM_support_data/support_data/vocab_gene2vec_16906.pkl\"\n",
    "vocab_json = project_path + \"/src/scLLM_support_data/support_data/vocab_16k.json\"\n",
    "#----> preprocess params\n",
    "target_label = 'QuiescenceStatus' # the label to be predicted"
   ]
  },
  {
   "cell_type": "code",
   "execution_count": 7,
   "metadata": {},
   "outputs": [
    {
     "name": "stdout",
     "output_type": "stream",
     "text": [
      "Dataset_para(var_idx=None, obs_idx='QuiescenceStatus', vocab_loc='/home/pan/Experiments/EXPs/scLLM_workspace/G0-LM//src/scLLM_support_data/support_data/vocab_16k.json', gene_vocab=None, use_key='X', filter_gene_by_counts=False, filter_cell_by_counts=200, normalize_total=10000.0, result_normed_key='X_normed', log1p=True, result_log1p_key='X_log1p', log1p_base=2, subset_hvg=False, hvg_use_key=None, hvg_flavor='seurat_v3', binning=None, result_binned_key='X_binned', tokenize_name='scBERT', return_pt=True, append_cls=True, include_zero_gene=False, cls_token='<cls>', max_len=16000, pad_token='<pad>', pad_value=-2, cls_appended=True, mask_ratio=0.15, mask_value=-1, preprocessed_loc='/home/pan/Experiments/EXPs/scLLM_workspace/G0-LM//Data//processed/G0_arrest/adata_scBERT.h5ad', data_layer_name='X_log1p', label_key='QuiescenceStatus', batch_label_key=None, cls_nb=3, binarize=None, bins=None, bin_min=None, bin_max=None, save_in_obs=True, auto_map_str_labels=True, map_dict=None, n_splits=1, test_size=None, random_state=2023, shuffle=True, sort_seq_batch=False)\n"
     ]
    }
   ],
   "source": [
    "\n",
    "from scLLM.Dataset.paras import Dataset_para, ConfigLoader\n",
    "# define pre-processing by follow original implementation of scBERT\n",
    "dataset_para = Dataset_para(\n",
    "                            var_idx=None,\n",
    "                            obs_idx=\"QuiescenceStatus\",\n",
    "                            vocab_loc=vocab_json,\n",
    "                            filter_gene_by_counts=False,\n",
    "                            filter_cell_by_counts=200,\n",
    "                            log1p=True,\n",
    "                            log1p_base=2,\n",
    "\n",
    "                            #\n",
    "                            tokenize_name=\"scBERT\",\n",
    "                            cls_nb=3,\n",
    "                            data_layer_name=\"X_log1p\",\n",
    "                            label_key = target_label,#\"Ground_truth\",#\"Ground_truth\",\n",
    "\n",
    "                            test_size=None,#0.2, #use all data to inference\n",
    "                            binarize=None, # not binarize use original label\n",
    "\n",
    "                            preprocessed_loc=f\"{preprocessed_folder}/adata_scBERT.h5ad\"\n",
    "                            )\n",
    "\n",
    "\n",
    "print(dataset_para)\n",
    "\n",
    "ConfigLoader.save_to_yaml(dataset_para, f\"{preprocessed_folder}/scBERT_dataset_settin.yml\")"
   ]
  },
  {
   "cell_type": "code",
   "execution_count": 8,
   "metadata": {},
   "outputs": [
    {
     "name": "stderr",
     "output_type": "stream",
     "text": [
      "scLLM - INFO - Initializing preprocessor ...\n",
      "scLLM - INFO - use default vocab from dataset_para\n",
      "scLLM - INFO - load vocab from /home/pan/Experiments/EXPs/scLLM_workspace/G0-LM//src/scLLM_support_data/support_data/vocab_16k.json\n",
      "scLLM - INFO - Load data from anndata object.\n",
      "scLLM - DEBUG - In original adata with gene 33541\n",
      "scLLM - DEBUG - In original adata with gene 33541\n",
      "scLLM - DEBUG - processing 0/16906\n",
      "scLLM - DEBUG - processing 2000/16906\n",
      "scLLM - DEBUG - processing 4000/16906\n",
      "scLLM - DEBUG - processing 6000/16906\n",
      "scLLM - DEBUG - processing 8000/16906\n",
      "scLLM - DEBUG - processing 10000/16906\n",
      "scLLM - DEBUG - processing 12000/16906\n",
      "scLLM - DEBUG - processing 14000/16906\n",
      "scLLM - DEBUG - processing 16000/16906\n",
      "scLLM - INFO - create anndata in scLLM format..\n",
      "scLLM - DEBUG - restore anndata in scLLM format..\n",
      "scLLM - INFO - Done.\n"
     ]
    }
   ],
   "source": [
    "# if this is the first time to run, need this block to init translate=True\n",
    "# init preprocessor\n",
    "from scLLM.Dataset.Reader import scReader\n",
    "screader = scReader(dataset_para=dataset_para)\n",
    "# init vocab\n",
    "screader.init_vocab()\n",
    "\n",
    "# load data\n",
    "screader.load_adata(loc = data_path,translate=True)\n"
   ]
  },
  {
   "cell_type": "code",
   "execution_count": 9,
   "metadata": {},
   "outputs": [],
   "source": [
    "# confirm the obs part with right name for later processing \n",
    "screader.adata.obs[\"data_source\"] = adata.obs['orig.ident']\n",
    "screader.adata.obs[\"celltype\"] = adata.obs['celltype']\n",
    "screader.adata.obs[\"QuiescenceScore\"] = adata.obs['QuiescenceScore']"
   ]
  },
  {
   "cell_type": "code",
   "execution_count": 10,
   "metadata": {},
   "outputs": [
    {
     "data": {
      "text/plain": [
       "AnnData object with n_obs × n_vars = 91897 × 16906\n",
       "    obs: 'QuiescenceStatus', 'data_source', 'celltype', 'QuiescenceScore'"
      ]
     },
     "execution_count": 10,
     "metadata": {},
     "output_type": "execute_result"
    }
   ],
   "source": [
    "screader.adata"
   ]
  },
  {
   "cell_type": "code",
   "execution_count": 11,
   "metadata": {},
   "outputs": [
    {
     "name": "stderr",
     "output_type": "stream",
     "text": [
      "scLLM - INFO - Preprocessing data with shape: (91897, 16906) ...\n",
      "scLLM - INFO - Filtering cells by counts ...\n",
      "scLLM - INFO - Filtered cells: 91897\n",
      "scLLM - INFO - Normalizing total counts ...\n",
      "scLLM - INFO - Log1p transforming ...\n",
      "scLLM - INFO - save preprocessed data to /home/pan/Experiments/EXPs/scLLM_workspace/G0-LM//Data//processed/G0_arrest/adata_scBERT.h5ad\n",
      "scLLM - INFO - Preprocessing finished.\n"
     ]
    }
   ],
   "source": [
    "## preprocess\n",
    "screader.preprocess()"
   ]
  },
  {
   "cell_type": "markdown",
   "metadata": {},
   "source": [
    "## post-process to get dataset"
   ]
  },
  {
   "cell_type": "code",
   "execution_count": 12,
   "metadata": {},
   "outputs": [
    {
     "name": "stdout",
     "output_type": "stream",
     "text": [
      "shape of adata (91897, 16906)\n"
     ]
    }
   ],
   "source": [
    "# if not the first run \n",
    "# -----> 读取数据集\n",
    "#from scLLM.Dataset.Reader import scReader\n",
    "#from scLLM.Dataset.paras import Dataset_para, ConfigLoader, load_dataset_para\n",
    "#dataset_para = load_dataset_para(f\"{raw_data_folder}/adata_scBERT.h5ad\")\n",
    "#data_reader = scReader(dataset_para)\n",
    "# init vocab from default file loc or from list/dict given as params\n",
    "#data_reader.init_vocab()\n",
    "#load anndata\n",
    "#data_reader.load_adata(loc = data_path,translate=False)\n",
    "\n",
    "# first run\n",
    "data_reader = screader\n",
    "print(f\"shape of adata {data_reader.adata.shape}\")"
   ]
  },
  {
   "cell_type": "code",
   "execution_count": 13,
   "metadata": {},
   "outputs": [
    {
     "name": "stdout",
     "output_type": "stream",
     "text": [
      "['Slow-cycling', 'Proliferating', 'Quiescent']\n",
      "Categories (3, object): ['Proliferating', 'Quiescent', 'Slow-cycling']\n"
     ]
    }
   ],
   "source": [
    "# only take cells QuiescenceStatus in['Slow-cycling', 'Proliferating', 'Quiescent']\n",
    "mask = data_reader.adata.obs[\"QuiescenceStatus\"].isin(['Slow-cycling', 'Proliferating', 'Quiescent'])\n",
    "data_reader.adata = data_reader.adata[mask]\n",
    "\n",
    "# fix mapping for label strings to int\n",
    "label_unique = data_reader.adata.obs[dataset_para.label_key].unique()\n",
    "print(label_unique)\n",
    "# 'Slow_cycling', 'Fast_cycling', 'G0_arrested'\n",
    "label_dict = {'G0_arrested':0, 'Slow_cycling':1, 'Fast_cycling':2, }"
   ]
  },
  {
   "cell_type": "code",
   "execution_count": 14,
   "metadata": {},
   "outputs": [
    {
     "data": {
      "text/plain": [
       "Gao2021_AAACCTGCAGTGACAG                 Slow-cycling\n",
       "Gao2021_AAACCTGGTCGAGATG                 Slow-cycling\n",
       "Gao2021_AAACGGGGTGCACTTA                 Slow-cycling\n",
       "Gao2021_AAACGGGTCACGGTTA                Proliferating\n",
       "Gao2021_AAAGATGAGCAGACTG                Proliferating\n",
       "                                            ...      \n",
       "Qian2020_sc5rJUQ064_TTTGGTTTCTCTTATG     Slow-cycling\n",
       "Qian2020_sc5rJUQ064_TTTGGTTTCTGCCCTA     Slow-cycling\n",
       "Qian2020_sc5rJUQ064_TTTGTCAAGCCAGAAC     Slow-cycling\n",
       "Qian2020_sc5rJUQ064_TTTGTCAAGGACGAAA     Slow-cycling\n",
       "Qian2020_sc5rJUQ064_TTTGTCAGTCTTGTCC     Slow-cycling\n",
       "Name: QuiescenceStatus, Length: 85749, dtype: category\n",
       "Categories (3, object): ['Proliferating', 'Quiescent', 'Slow-cycling']"
      ]
     },
     "execution_count": 14,
     "metadata": {},
     "output_type": "execute_result"
    }
   ],
   "source": [
    "data_reader.adata.obs[dataset_para.label_key]"
   ]
  },
  {
   "cell_type": "code",
   "execution_count": 15,
   "metadata": {},
   "outputs": [
    {
     "name": "stderr",
     "output_type": "stream",
     "text": [
      "scLLM - INFO - Map string labels to int automatically.\n",
      "scLLM - INFO - Mapping from {'Slow-cycling': 0, 'Proliferating': 1, 'Quiescent': 2}\n",
      "/home/pan/Experiments/EXPs/scLLM_workspace/G0-LM//src/scLLM/Dataset/Reader.py:260: ImplicitModificationWarning: Trying to modify attribute `.obs` of view, initializing view as actual.\n",
      "  self.adata.obs[key_name]=self.adata.obs[key_name].map(map_dict)\n",
      "scLLM - INFO - Discritize label QuiescenceStatus in obs_names\n"
     ]
    },
    {
     "name": "stdout",
     "output_type": "stream",
     "text": [
      "trainset size:  85749\n",
      "no valset\n",
      "{'Slow_cycling': 0, 'Fast_cycling': 1, 'G0_arrested': 2}\n",
      "weights:  None\n"
     ]
    }
   ],
   "source": [
    "trainset,valset,weights = data_reader.postprocess()\n",
    "\n",
    "# 输出数据集信息\n",
    "print(\"trainset size: \",len(trainset))\n",
    "print(\"valset size: \",len(valset)) if valset is not None else print(\"no valset\")\n",
    "label_dict = {'Slow_cycling': 0, 'Fast_cycling': 1, 'G0_arrested': 2}\n",
    "print(label_dict)\n",
    "print(\"weights: \",weights)"
   ]
  },
  {
   "cell_type": "code",
   "execution_count": 16,
   "metadata": {},
   "outputs": [],
   "source": [
    "# add sample id to the trainset \n",
    "trainset.sample_id = list(data_reader.adata.obs.index)\n",
    "trainset.q_score = list(data_reader.adata.obs[\"QuiescenceScore\"])\n",
    "trainset.celltype = list(data_reader.adata.obs[\"celltype\"])\n",
    "trainset.data_source = list(data_reader.adata.obs[\"data_source\"])"
   ]
  },
  {
   "cell_type": "markdown",
   "metadata": {},
   "source": [
    "## split Train and validation set with sample id"
   ]
  },
  {
   "cell_type": "code",
   "execution_count": 17,
   "metadata": {},
   "outputs": [],
   "source": [
    "import numpy as np\n",
    "from scLLM.Dataset.dataset import SCDataset\n",
    "# 创建索引数组并打乱顺序\n",
    "indices = np.arange(len(trainset))\n",
    "np.random.shuffle(indices)\n",
    "\n",
    "# 计算拆分的索引位置\n",
    "split_idx = int(len(trainset) * 0.8)\n",
    "\n",
    "# 使用打乱后的索引选择数据\n",
    "train_indices = indices[:split_idx]\n",
    "val_indices = indices[split_idx:]\n",
    "\n",
    "# 拆分 data 和 label\n",
    "train_data, val_data = trainset.data[train_indices], trainset.data[val_indices]\n",
    "train_label, val_label = trainset.label[train_indices], trainset.label[val_indices]\n",
    "\n",
    "# 拆分 sample_id, q_score, celltype, data_source\n",
    "train_sample_id = [trainset.sample_id[i] for i in train_indices]\n",
    "val_sample_id = [trainset.sample_id[i] for i in val_indices]\n",
    "\n",
    "train_q_score = [trainset.q_score[i] for i in train_indices] \n",
    "val_q_score = [trainset.q_score[i] for i in val_indices]\n",
    "\n",
    "train_celltype = [trainset.celltype[i] for i in train_indices]\n",
    "val_celltype = [trainset.celltype[i] for i in val_indices]\n",
    "\n",
    "train_data_source = [trainset.data_source[i] for i in train_indices]\n",
    "val_data_source = [trainset.data_source[i] for i in val_indices]\n",
    "\n",
    "# 创建新的 SCDataset 实例\n",
    "train_dataset = SCDataset(train_data, train_label, cls_nb=trainset.cls_nb, random_sample=trainset.random_sample)\n",
    "val_dataset = SCDataset(val_data, val_label, cls_nb=trainset.cls_nb, random_sample=trainset.random_sample)\n",
    "\n",
    "# 为新的实例添加属性\n",
    "train_dataset.sample_id = train_sample_id\n",
    "train_dataset.q_score = train_q_score \n",
    "train_dataset.celltype = train_celltype\n",
    "train_dataset.data_source = train_data_source\n",
    "\n",
    "val_dataset.sample_id = val_sample_id\n",
    "val_dataset.q_score = val_q_score\n",
    "val_dataset.celltype = val_celltype\n",
    "val_dataset.data_source = val_data_source"
   ]
  },
  {
   "cell_type": "markdown",
   "metadata": {},
   "source": [
    "## save the dataset and labels"
   ]
  },
  {
   "cell_type": "code",
   "execution_count": 19,
   "metadata": {},
   "outputs": [],
   "source": [
    "import dill\n",
    "# 为trainset 添加其他labels\n",
    "target_task = f\"/One_dataset_{target_label}.pkl\"\n",
    "#loc = save_root + dataset_from + target_task\n",
    "loc1 = preprocessed_folder + target_task\n",
    "# 保存 trainset 到文件，并关联相应labels\n",
    "with open(loc1,\"wb\") as f:\n",
    "    dill.dump([trainset,valset,weights,label_dict],f)\n",
    "\n",
    "target_task = f\"/TrVal_dataset_{target_label}.pkl\"\n",
    "loc2 = preprocessed_folder + target_task\n",
    "# 保存 trainset 到文件，并关联相应labels\n",
    "with open(loc2,\"wb\") as f:\n",
    "    dill.dump([train_dataset,val_dataset,weights,label_dict],f)"
   ]
  }
 ],
 "metadata": {
  "kernelspec": {
   "display_name": "scLLM",
   "language": "python",
   "name": "python3"
  },
  "language_info": {
   "codemirror_mode": {
    "name": "ipython",
    "version": 3
   },
   "file_extension": ".py",
   "mimetype": "text/x-python",
   "name": "python",
   "nbconvert_exporter": "python",
   "pygments_lexer": "ipython3",
   "version": "3.9.19"
  }
 },
 "nbformat": 4,
 "nbformat_minor": 2
}
